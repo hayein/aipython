{
  "nbformat": 4,
  "nbformat_minor": 0,
  "metadata": {
    "colab": {
      "provenance": []
    },
    "kernelspec": {
      "name": "python3",
      "display_name": "Python 3"
    },
    "language_info": {
      "name": "python"
    }
  },
  "cells": [
    {
      "cell_type": "code",
      "execution_count": 14,
      "metadata": {
        "colab": {
          "base_uri": "https://localhost:8080/"
        },
        "id": "12Jv4ro1BnQ1",
        "outputId": "4dcbaec6-c265-40f0-91f0-f2bbe037b9fd"
      },
      "outputs": [
        {
          "output_type": "stream",
          "name": "stdout",
          "text": [
            "분을 입력하세요.150\n",
            "150 -> 2시간 30분\n"
          ]
        }
      ],
      "source": [
        "# 분을 입력받아서 시간과 분을 출력하시오.\n",
        "min = int(input(\"분을 입력하세요.\"))\n",
        "a = min//60\n",
        "b = min%60\n",
        "print(\"{:d} -> {:d}시간 {:d}분\".format(min,a,b))"
      ]
    },
    {
      "cell_type": "code",
      "source": [
        "# 섭씨 온도를 입력받아서 화씨온도를 출력하시오.\n",
        "C = float(input(\"섭씨 온도를 입력하세요.\"))\n",
        "F = C * 1.8 + 32\n",
        "print(\"섭씨 %d도는 화씨 %.1f도 입니다.\"%(C,F))"
      ],
      "metadata": {
        "colab": {
          "base_uri": "https://localhost:8080/"
        },
        "id": "wB5CrxLOCUY6",
        "outputId": "d06216f9-c07e-4ead-eb7b-1d08169d1e9e"
      },
      "execution_count": 6,
      "outputs": [
        {
          "output_type": "stream",
          "name": "stdout",
          "text": [
            "섭씨 온도를 입력하세요.31\n",
            "섭씨 31도는 화씨 87.8도 입니다.\n"
          ]
        }
      ]
    },
    {
      "cell_type": "code",
      "source": [
        "# 원의 반지름을 입력 받아서 둘레와 면적을 출력하시오. (PI=3.14)\n",
        "PI=3.14\n",
        "r = int(input(\"원의 반지름을 입력하세요.\"))\n",
        "C = 2 * PI * r\n",
        "S = PI * (r ** 2)\n",
        "print(\"반지름이 {}인 원의 둘레 {:.2f}이고 면적은 {:.2f}입니다.\".format(r,C,S))"
      ],
      "metadata": {
        "colab": {
          "base_uri": "https://localhost:8080/"
        },
        "id": "5gWBv1PvDOWB",
        "outputId": "aeb2ffda-324d-419a-8aab-a316f86cd14c"
      },
      "execution_count": 18,
      "outputs": [
        {
          "output_type": "stream",
          "name": "stdout",
          "text": [
            "원의 반지름을 입력하세요.15\n",
            "반지름이 15인 원의 둘레 94.20이고 면적은 706.50입니다.\n"
          ]
        }
      ]
    }
  ]
}