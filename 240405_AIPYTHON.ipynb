{
  "nbformat": 4,
  "nbformat_minor": 0,
  "metadata": {
    "colab": {
      "provenance": []
    },
    "kernelspec": {
      "name": "python3",
      "display_name": "Python 3"
    },
    "language_info": {
      "name": "python"
    }
  },
  "cells": [
    {
      "cell_type": "code",
      "execution_count": 6,
      "metadata": {
        "colab": {
          "base_uri": "https://localhost:8080/"
        },
        "id": "eNLNiFBT38us",
        "outputId": "577fc4f5-0317-44b3-ef33-3471d78d08ae"
      },
      "outputs": [
        {
          "output_type": "stream",
          "name": "stdout",
          "text": [
            "프로그램종료\n"
          ]
        }
      ],
      "source": [
        "a=5\n",
        "# 조건에 따라 실행되는 것\n",
        "if a>5:\n",
        "    print(\"A는 5보다 크다\")\n",
        "# if의 영향을 받지 않음 (들여쓰기에 따라 실행의 제어 달라짐)\n",
        "print(\"프로그램종료\")"
      ]
    },
    {
      "cell_type": "code",
      "source": [
        "a=10\n",
        "if a>5:\n",
        "  print(\"a는 5보다 크다\")\n",
        "elif a<=5:\n",
        "  print(\"a는 5이하입니다\")"
      ],
      "metadata": {
        "colab": {
          "base_uri": "https://localhost:8080/"
        },
        "id": "P9JQm3IE5MeC",
        "outputId": "011988bb-adb6-46a8-9e51-70f6b0989f1a"
      },
      "execution_count": 9,
      "outputs": [
        {
          "output_type": "stream",
          "name": "stdout",
          "text": [
            "a는 5보다 크다\n"
          ]
        }
      ]
    },
    {
      "cell_type": "code",
      "source": [
        "# a에 할당된 값의 짝수 홀수 여부를 알려주는 프로그램\n",
        "\n",
        "a = 10\n",
        "\n",
        "if a % 2 == 1:\n",
        "  print(\"a는 홀수입니다.\")\n",
        "elif a % 2 == 0:\n",
        "  print(\"a는 짝수입니다.\")"
      ],
      "metadata": {
        "colab": {
          "base_uri": "https://localhost:8080/"
        },
        "id": "gKLf32Nm5uBa",
        "outputId": "525c0fed-d419-4dfb-9d0b-e1dfa8d5426a"
      },
      "execution_count": 14,
      "outputs": [
        {
          "output_type": "stream",
          "name": "stdout",
          "text": [
            "a는 짝수입니다.\n"
          ]
        }
      ]
    },
    {
      "cell_type": "code",
      "source": [
        "a = 5\n",
        "\n",
        "if a % 2 == 1:\n",
        "  print(\"a는 홀수입니다.\")\n",
        "elif a % 2 == 0:\n",
        "  print(\"a는 짝수입니다.\")"
      ],
      "metadata": {
        "colab": {
          "base_uri": "https://localhost:8080/"
        },
        "id": "0dP0ke9p6oLA",
        "outputId": "a52cb5cc-990f-409f-d900-66a8226f4134"
      },
      "execution_count": 15,
      "outputs": [
        {
          "output_type": "stream",
          "name": "stdout",
          "text": [
            "a는 홀수입니다.\n"
          ]
        }
      ]
    },
    {
      "cell_type": "code",
      "source": [
        "a=5\n",
        "if a>5:\n",
        "  print(\"a는 5보다 크다\")\n",
        "elif a<5:\n",
        "  print(\"a는 5보다 작다\")\n",
        "else:\n",
        "  print(\"a는 5입니다\")"
      ],
      "metadata": {
        "colab": {
          "base_uri": "https://localhost:8080/"
        },
        "id": "5ZHNPiqD7exY",
        "outputId": "e1f08ef4-9f00-4cda-9082-4f889e9b5ea9"
      },
      "execution_count": 17,
      "outputs": [
        {
          "output_type": "stream",
          "name": "stdout",
          "text": [
            "a는 5입니다\n"
          ]
        }
      ]
    },
    {
      "cell_type": "code",
      "source": [
        "a = 10\n",
        "b = 10\n",
        "\n",
        "if a > 5:\n",
        "    if b < 10:\n",
        "        print(\"a는 5보다 크고 b는 10보다 작습니다.\")"
      ],
      "metadata": {
        "id": "Gm_6bpsM9UUQ"
      },
      "execution_count": 19,
      "outputs": []
    },
    {
      "cell_type": "code",
      "source": [
        "a = 10\n",
        "b = 5\n",
        "\n",
        "if a > 5 and b < 10:\n",
        "  print(\"a는 5보다 크고 b는 10보다 작습니다.\")"
      ],
      "metadata": {
        "colab": {
          "base_uri": "https://localhost:8080/"
        },
        "id": "t8A-ZPnp9ZDn",
        "outputId": "53edf83a-8d71-46d0-d674-eaf268b6bcf2"
      },
      "execution_count": 20,
      "outputs": [
        {
          "output_type": "stream",
          "name": "stdout",
          "text": [
            "a는 5보다 크고 b는 10보다 작습니다.\n"
          ]
        }
      ]
    },
    {
      "cell_type": "code",
      "source": [
        "score = int(input(\"점수를 입력하세요 (0-100) : \"))\n",
        "\n",
        "if score >= 90:\n",
        "  grade = \"A\"\n",
        "elif score >= 80:\n",
        "  grade = \"B\"\n",
        "elif score >= 70:\n",
        "  grade = \"C\"\n",
        "elif score >= 60:\n",
        "  grade = \"D\"\n",
        "else:\n",
        "  grade = \"F\"\n",
        "\n",
        "print(\"등급은 %s입니다.\"%grade)"
      ],
      "metadata": {
        "colab": {
          "base_uri": "https://localhost:8080/"
        },
        "id": "WcrTtDwB96Cx",
        "outputId": "f6e45fa8-c21c-4f99-86ec-21100471896d"
      },
      "execution_count": 32,
      "outputs": [
        {
          "output_type": "stream",
          "name": "stdout",
          "text": [
            "점수를 입력하세요 (0-100) : 90\n",
            "등급은 A입니다.\n"
          ]
        }
      ]
    },
    {
      "cell_type": "code",
      "source": [
        "a=[1,2,3,4,5,6,7,8,9,10]\n",
        "tot=0\n",
        "for i in a:\n",
        "  print(i)\n",
        "  tot=tot+i\n",
        "print(tot)"
      ],
      "metadata": {
        "colab": {
          "base_uri": "https://localhost:8080/"
        },
        "id": "FN-HwDEqFOK0",
        "outputId": "e1ede2ff-78fe-4221-8533-3bfc6d9333e8"
      },
      "execution_count": 40,
      "outputs": [
        {
          "output_type": "stream",
          "name": "stdout",
          "text": [
            "1\n",
            "2\n",
            "3\n",
            "4\n",
            "5\n",
            "6\n",
            "7\n",
            "8\n",
            "9\n",
            "10\n",
            "55\n"
          ]
        }
      ]
    },
    {
      "cell_type": "code",
      "source": [
        "for i in range(5) :\n",
        "  if i % 2 == 1:\n",
        "    break\n",
        "  print(i)"
      ],
      "metadata": {
        "colab": {
          "base_uri": "https://localhost:8080/"
        },
        "id": "G49cSApIHq6f",
        "outputId": "f31b502d-015f-4e84-f573-837ee6a21757"
      },
      "execution_count": 51,
      "outputs": [
        {
          "output_type": "stream",
          "name": "stdout",
          "text": [
            "0\n"
          ]
        }
      ]
    },
    {
      "cell_type": "code",
      "source": [
        "# 1에서 100까지 홀수만 찍어보기\n",
        "for i in range(1,100,2) :\n",
        "  print(i)\n",
        "\n",
        "# 1에서 100까지 짝수만 찍어보기\n",
        "for i in range(2,101,2) :\n",
        "  print(i)"
      ],
      "metadata": {
        "colab": {
          "base_uri": "https://localhost:8080/"
        },
        "id": "pF8WUi3VIN_M",
        "outputId": "7db046b1-cb6f-447f-a972-275da4f32917"
      },
      "execution_count": 46,
      "outputs": [
        {
          "output_type": "stream",
          "name": "stdout",
          "text": [
            "1\n",
            "3\n",
            "5\n",
            "7\n",
            "9\n",
            "11\n",
            "13\n",
            "15\n",
            "17\n",
            "19\n",
            "21\n",
            "23\n",
            "25\n",
            "27\n",
            "29\n",
            "31\n",
            "33\n",
            "35\n",
            "37\n",
            "39\n",
            "41\n",
            "43\n",
            "45\n",
            "47\n",
            "49\n",
            "51\n",
            "53\n",
            "55\n",
            "57\n",
            "59\n",
            "61\n",
            "63\n",
            "65\n",
            "67\n",
            "69\n",
            "71\n",
            "73\n",
            "75\n",
            "77\n",
            "79\n",
            "81\n",
            "83\n",
            "85\n",
            "87\n",
            "89\n",
            "91\n",
            "93\n",
            "95\n",
            "97\n",
            "99\n",
            "2\n",
            "4\n",
            "6\n",
            "8\n",
            "10\n",
            "12\n",
            "14\n",
            "16\n",
            "18\n",
            "20\n",
            "22\n",
            "24\n",
            "26\n",
            "28\n",
            "30\n",
            "32\n",
            "34\n",
            "36\n",
            "38\n",
            "40\n",
            "42\n",
            "44\n",
            "46\n",
            "48\n",
            "50\n",
            "52\n",
            "54\n",
            "56\n",
            "58\n",
            "60\n",
            "62\n",
            "64\n",
            "66\n",
            "68\n",
            "70\n",
            "72\n",
            "74\n",
            "76\n",
            "78\n",
            "80\n",
            "82\n",
            "84\n",
            "86\n",
            "88\n",
            "90\n",
            "92\n",
            "94\n",
            "96\n",
            "98\n",
            "100\n"
          ]
        }
      ]
    },
    {
      "cell_type": "code",
      "source": [
        "# 1부터 10까지 홀수의 합, 짝수의 합 각각 구하기\n",
        "\n",
        "total_1 = 0\n",
        "total_2 = 0\n",
        "\n",
        "for i in range (1,11) :\n",
        "  if i % 2 == 1 :\n",
        "    total_1 = total_1 + i\n",
        "  else :\n",
        "    total_2 = total_2 + i\n",
        "\n",
        "print(total_1)\n",
        "print(total_2)"
      ],
      "metadata": {
        "colab": {
          "base_uri": "https://localhost:8080/"
        },
        "id": "kPsNdj55KyAz",
        "outputId": "2bf2846e-f024-492f-e11b-3be83de229c1"
      },
      "execution_count": 59,
      "outputs": [
        {
          "output_type": "stream",
          "name": "stdout",
          "text": [
            "25\n",
            "30\n"
          ]
        }
      ]
    },
    {
      "cell_type": "code",
      "source": [
        "# 하나의 숫자 n를 입력 받아서 때, 1부터 n까지 합을 구하는 프로그램을 작성하시오.\n",
        "\n",
        "n = int(input())\n",
        "total = 0\n",
        "for i in range(1,n+1):\n",
        "  total += i\n",
        "print(total)\n"
      ],
      "metadata": {
        "colab": {
          "base_uri": "https://localhost:8080/"
        },
        "id": "AkUyboDoNxQa",
        "outputId": "a081c982-2aa1-4410-e9ae-f8b126634011"
      },
      "execution_count": 60,
      "outputs": [
        {
          "output_type": "stream",
          "name": "stdout",
          "text": [
            "3\n",
            "6\n"
          ]
        }
      ]
    }
  ]
}