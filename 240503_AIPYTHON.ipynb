{
  "nbformat": 4,
  "nbformat_minor": 0,
  "metadata": {
    "colab": {
      "provenance": []
    },
    "kernelspec": {
      "name": "python3",
      "display_name": "Python 3"
    },
    "language_info": {
      "name": "python"
    }
  },
  "cells": [
    {
      "cell_type": "code",
      "execution_count": 11,
      "metadata": {
        "colab": {
          "base_uri": "https://localhost:8080/"
        },
        "id": "390gsEyRUDx_",
        "outputId": "d742837c-64b8-49f3-dda4-b017a43e4795"
      },
      "outputs": [
        {
          "output_type": "stream",
          "name": "stdout",
          "text": [
            "[1 3 5 7 9]\n",
            "[[1. 1. 1. 1.]\n",
            " [1. 1. 1. 1.]\n",
            " [1. 1. 1. 1.]]\n",
            "[0.         0.11111111 0.22222222 0.33333333 0.44444444 0.55555556\n",
            " 0.66666667 0.77777778 0.88888889 1.        ]\n"
          ]
        }
      ],
      "source": [
        "# NumPy Lab\n",
        "\n",
        "import numpy as np\n",
        "\n",
        "a = np.arange(1,10,2)\n",
        "print(a)\n",
        "\n",
        "b = np.ones((3,4))\n",
        "print(b)\n",
        "\n",
        "c = np.linspace(0,1,10)\n",
        "print(c)"
      ]
    },
    {
      "cell_type": "code",
      "source": [
        "arr1 = np.ones((3,4))\n",
        "\n",
        "print(arr1)\n",
        "print('size :', arr1.size)\n",
        "print('dtype :', arr1.dtype)\n",
        "print('shape :', arr1.shape)\n",
        "print('ndim :', arr1.ndim)"
      ],
      "metadata": {
        "colab": {
          "base_uri": "https://localhost:8080/"
        },
        "id": "O8tmJcKsWx74",
        "outputId": "7eea0d9c-aa47-4e4d-db7f-14c3234151b5"
      },
      "execution_count": 13,
      "outputs": [
        {
          "output_type": "stream",
          "name": "stdout",
          "text": [
            "[[1. 1. 1. 1.]\n",
            " [1. 1. 1. 1.]\n",
            " [1. 1. 1. 1.]]\n",
            "size : 12\n",
            "dtype : float64\n",
            "shape : (3, 4)\n",
            "ndim : 2\n"
          ]
        }
      ]
    },
    {
      "cell_type": "code",
      "source": [
        "# 1. A행령을 생성해보자.\n",
        "\n",
        "A = np.array(\n",
        "    [[1,2,3,4,5],\n",
        "     [6,7,8,9,10],\n",
        "     [11,12,13,14,15],\n",
        "     [16,17,18,19,20],\n",
        "     [21,22,23,24,25]]\n",
        "    )\n",
        "\n",
        "# 2. A의 모양(shape)을 출력해보자.\n",
        "\n",
        "print(A.shape)\n",
        "\n",
        "# 3. 19 값을 추출해보자.\n",
        "\n",
        "print(A[3,3])\n",
        "\n",
        "# 4. 슬라이싱을 이용하여 [[1,2], [6,7]] 값을 추출해보자.\n",
        "\n",
        "print(A[:2,:2])\n",
        "\n",
        "# 5. 슬라이싱을 이용하여 [[19,20], [24, 25]] 값을 추출해보자.\n",
        "\n",
        "print(A[3:,3:])\n",
        "\n",
        "# 6. 슬라이싱을 이용하여 0축의 첫 번째 행과 두 번째 행을 추출해보자.\n",
        "\n",
        "# 7. 슬라이싱을 이용하여 1축의 마지막 열과 마지막 직전 열을 추출해보자."
      ],
      "metadata": {
        "colab": {
          "base_uri": "https://localhost:8080/"
        },
        "id": "T8BQhmmYXev6",
        "outputId": "b65446f8-08cd-4abe-aba3-a4722adbb32d"
      },
      "execution_count": 23,
      "outputs": [
        {
          "output_type": "stream",
          "name": "stdout",
          "text": [
            "(5, 5)\n",
            "19\n",
            "[[1 2]\n",
            " [6 7]]\n",
            "[[19 20]\n",
            " [24 25]]\n"
          ]
        }
      ]
    },
    {
      "cell_type": "code",
      "source": [
        "# 1. A행렬을 생성해보자.\n",
        "\n",
        "A = np.arange(1,37)\n",
        "A_R = A.reshape(3,3,4)\n",
        "print(A_R)\n",
        "\n",
        "# A 배열의 모양과 크기를 출력해보자.\n",
        "\n",
        "print(A_R.shape, A_R.size)\n",
        "\n",
        "# A 모양을 (3,4,3)로 변경해보자.\n",
        "\n",
        "A_RR = A_R.reshape(3,4,3)\n",
        "print(A_RR)\n",
        "\n",
        "# A를 1차원 배열로 구성해보자\n",
        "A_F = A_R.flatten()\n",
        "print(A_F)"
      ],
      "metadata": {
        "colab": {
          "base_uri": "https://localhost:8080/"
        },
        "id": "6CxwT4pqYw-T",
        "outputId": "cc182983-1db3-4dd8-aa39-71fff66d7bdb"
      },
      "execution_count": 30,
      "outputs": [
        {
          "output_type": "stream",
          "name": "stdout",
          "text": [
            "[[[ 1  2  3  4]\n",
            "  [ 5  6  7  8]\n",
            "  [ 9 10 11 12]]\n",
            "\n",
            " [[13 14 15 16]\n",
            "  [17 18 19 20]\n",
            "  [21 22 23 24]]\n",
            "\n",
            " [[25 26 27 28]\n",
            "  [29 30 31 32]\n",
            "  [33 34 35 36]]]\n",
            "(3, 3, 4) 36\n",
            "[[[ 1  2  3]\n",
            "  [ 4  5  6]\n",
            "  [ 7  8  9]\n",
            "  [10 11 12]]\n",
            "\n",
            " [[13 14 15]\n",
            "  [16 17 18]\n",
            "  [19 20 21]\n",
            "  [22 23 24]]\n",
            "\n",
            " [[25 26 27]\n",
            "  [28 29 30]\n",
            "  [31 32 33]\n",
            "  [34 35 36]]]\n",
            "[ 1  2  3  4  5  6  7  8  9 10 11 12 13 14 15 16 17 18 19 20 21 22 23 24\n",
            " 25 26 27 28 29 30 31 32 33 34 35 36]\n"
          ]
        }
      ]
    }
  ]
}