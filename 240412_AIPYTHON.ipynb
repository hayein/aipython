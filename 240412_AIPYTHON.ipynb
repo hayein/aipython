{
  "nbformat": 4,
  "nbformat_minor": 0,
  "metadata": {
    "colab": {
      "provenance": []
    },
    "kernelspec": {
      "name": "python3",
      "display_name": "Python 3"
    },
    "language_info": {
      "name": "python"
    }
  },
  "cells": [
    {
      "cell_type": "code",
      "source": [
        "# 다음 리스트에서 \"apple\" 요소를 출력하세요.\n",
        "fruits = [\"banana\", \"apple\", \"orange\", \"cherry\"]\n",
        "print(fruits[1])"
      ],
      "metadata": {
        "colab": {
          "base_uri": "https://localhost:8080/"
        },
        "id": "fWIQxMWOCihL",
        "outputId": "61335aea-5df9-4cf2-b804-227a31a8c4fd"
      },
      "execution_count": null,
      "outputs": [
        {
          "output_type": "stream",
          "name": "stdout",
          "text": [
            "apple\n"
          ]
        }
      ]
    },
    {
      "cell_type": "code",
      "source": [
        "# 다음 리스트에서 마지막 요소를 출력하세요.\n",
        "numbers = [10, 20, 30, 40, 50]\n",
        "print(numbers[-1])"
      ],
      "metadata": {
        "id": "nMySYdUcDHWq",
        "outputId": "efb87ddd-aae4-4865-f9e0-04afa36fe306",
        "colab": {
          "base_uri": "https://localhost:8080/"
        }
      },
      "execution_count": null,
      "outputs": [
        {
          "output_type": "stream",
          "name": "stdout",
          "text": [
            "50\n"
          ]
        }
      ]
    },
    {
      "cell_type": "code",
      "source": [
        "# 다음 리스트에서 \"banana\" 요소를 \"grape\"로 변경하세요.\n",
        "fruits = [\"apple\", \"banana\", \"cherry\"]\n",
        "fruits[1] = \"grape\"\n",
        "print(fruits)"
      ],
      "metadata": {
        "id": "CNc7ieF6DYHO",
        "outputId": "a7496f18-dcd9-4368-c79a-76154dfa19b7",
        "colab": {
          "base_uri": "https://localhost:8080/"
        }
      },
      "execution_count": null,
      "outputs": [
        {
          "output_type": "stream",
          "name": "stdout",
          "text": [
            "['apple', 'grape', 'cherry']\n"
          ]
        }
      ]
    },
    {
      "cell_type": "code",
      "source": [
        "# 다음 리스트에 \"strawberry\" 요소를 추가하세요.\n",
        "fruits = [\"apple\", \"banana\", \"cherry\"]\n",
        "fruits.append(\"strawberry\")\n",
        "print(fruits)"
      ],
      "metadata": {
        "id": "NvFXW4zRDzGc",
        "outputId": "0e6eea5d-d169-44dd-f9ba-03e526647bc6",
        "colab": {
          "base_uri": "https://localhost:8080/"
        }
      },
      "execution_count": null,
      "outputs": [
        {
          "output_type": "stream",
          "name": "stdout",
          "text": [
            "['apple', 'banana', 'cherry', 'strawberry']\n"
          ]
        }
      ]
    },
    {
      "cell_type": "code",
      "source": [
        "# 다음 리스트에서 30을 제거하세요.\n",
        "numbers = [10, 20, 30, 40, 50]\n",
        "numbers.remove(30)\n",
        "print(numbers)"
      ],
      "metadata": {
        "id": "V26V5y2YEHur",
        "outputId": "91a2ec5f-0517-4030-c526-aff3882b79f6",
        "colab": {
          "base_uri": "https://localhost:8080/"
        }
      },
      "execution_count": null,
      "outputs": [
        {
          "output_type": "stream",
          "name": "stdout",
          "text": [
            "[10, 20, 40, 50]\n"
          ]
        }
      ]
    },
    {
      "cell_type": "code",
      "source": [
        "# 다음 리스트의 길이를 출력하세요.\n",
        "numbers = [5, 10, 15, 20, 25]\n",
        "print(len(numbers))"
      ],
      "metadata": {
        "id": "Gk4XY3YTEWKC",
        "outputId": "a72a5940-68b8-41a6-f501-cecedd68710f",
        "colab": {
          "base_uri": "https://localhost:8080/"
        }
      },
      "execution_count": null,
      "outputs": [
        {
          "output_type": "stream",
          "name": "stdout",
          "text": [
            "5\n"
          ]
        }
      ]
    },
    {
      "cell_type": "code",
      "source": [
        "# 다음 리스트에서 가장 작은 값/가장 큰 값을 찾아 출력하세요.\n",
        "numbers = [10, 5, 8, 3, 15]\n",
        "print(min(numbers))\n",
        "print(max(numbers))"
      ],
      "metadata": {
        "id": "8wjh-Fp4EQwy",
        "outputId": "4fc2e945-a8ab-4de5-d846-33e9ac598535",
        "colab": {
          "base_uri": "https://localhost:8080/"
        }
      },
      "execution_count": null,
      "outputs": [
        {
          "output_type": "stream",
          "name": "stdout",
          "text": [
            "3\n",
            "15\n"
          ]
        }
      ]
    },
    {
      "cell_type": "code",
      "source": [
        "# 다음 리스트의 모 든 요소의 합을 게산하여 출력하세요.\n",
        "numbers = [10, 20, 30, 40, 50]\n",
        "print(sum(numbers))"
      ],
      "metadata": {
        "id": "JrY9K07cEyZz",
        "outputId": "3aece2a6-872e-438d-8301-5be43dfda1e0",
        "colab": {
          "base_uri": "https://localhost:8080/"
        }
      },
      "execution_count": null,
      "outputs": [
        {
          "output_type": "stream",
          "name": "stdout",
          "text": [
            "150\n"
          ]
        }
      ]
    },
    {
      "cell_type": "code",
      "source": [
        "def square(numbers) :\n",
        "  new_list = []\n",
        "  for i in numbers :\n",
        "    new_list.append(i**2)\n",
        "  return new_list\n",
        "\n",
        "new = square([1,2,3,4,5])\n",
        "print(new)"
      ],
      "metadata": {
        "id": "canQ-D-hMxwy",
        "outputId": "b00177b3-e7ea-4936-bae2-7254c1ef1ffb",
        "colab": {
          "base_uri": "https://localhost:8080/"
        }
      },
      "execution_count": null,
      "outputs": [
        {
          "output_type": "stream",
          "name": "stdout",
          "text": [
            "[1, 4, 9, 16, 25]\n"
          ]
        }
      ]
    },
    {
      "cell_type": "code",
      "source": [
        "# 다음 리스트의 모든 요소를 제곱하여 새로운 리스트를 생성하세요.\n",
        "numbers = [1, 2, 3, 4, 5]\n",
        "\n",
        "new_list = []\n",
        "for i in numbers :\n",
        "  new_list.append(i**2)\n",
        "\n",
        "print(new_list)"
      ],
      "metadata": {
        "id": "8x2K_s3FE6Ru",
        "outputId": "881d8381-bda3-4bd4-8bad-1577d668bdca",
        "colab": {
          "base_uri": "https://localhost:8080/"
        }
      },
      "execution_count": null,
      "outputs": [
        {
          "output_type": "stream",
          "name": "stdout",
          "text": [
            "[1, 4, 9, 16, 25]\n"
          ]
        }
      ]
    },
    {
      "cell_type": "code",
      "source": [
        "# 다음 리스트에서 \"apple\" 요소의 개수를 출력하세요.\n",
        "fruits = [\"apple\", \"banana\", \"apple\", \"cherry\", \"apple\"]\n",
        "print(fruits.count(\"apple\"))"
      ],
      "metadata": {
        "id": "NgAKbrzLFAVO",
        "outputId": "b2d2dcb2-5f6e-413c-bd6c-a817571291e4",
        "colab": {
          "base_uri": "https://localhost:8080/"
        }
      },
      "execution_count": null,
      "outputs": [
        {
          "output_type": "stream",
          "name": "stdout",
          "text": [
            "3\n"
          ]
        }
      ]
    },
    {
      "cell_type": "code",
      "source": [
        "def add(a, b) :\n",
        "  result = a + b\n",
        "  return result\n",
        "\n",
        "sum_result = add(3,5)\n",
        "print(sum_result)"
      ],
      "metadata": {
        "id": "KN7XO36wFJGU",
        "outputId": "ccf5fd39-3dca-4449-ade8-36a838019def",
        "colab": {
          "base_uri": "https://localhost:8080/"
        }
      },
      "execution_count": null,
      "outputs": [
        {
          "output_type": "stream",
          "name": "stdout",
          "text": [
            "8\n"
          ]
        }
      ]
    },
    {
      "cell_type": "code",
      "source": [
        "def square(x) :\n",
        "  return x**2\n",
        "\n",
        "ret = square(5)\n",
        "print(ret)"
      ],
      "metadata": {
        "id": "S8mZqhAjLG-z",
        "outputId": "27c5a691-c5c6-46c9-ba58-40f1f204d82a",
        "colab": {
          "base_uri": "https://localhost:8080/"
        }
      },
      "execution_count": null,
      "outputs": [
        {
          "output_type": "stream",
          "name": "stdout",
          "text": [
            "25\n"
          ]
        }
      ]
    },
    {
      "cell_type": "code",
      "source": [
        "def square(x) :\n",
        "  result = x**2\n",
        "  return result\n",
        "square(5)\n",
        "print(square(5))\n",
        "print(square(10))\n",
        "print(square(15))\n",
        "print(square(20))"
      ],
      "metadata": {
        "id": "neDtrG4jLfdC",
        "outputId": "47392622-5726-4029-e350-76868691849a",
        "colab": {
          "base_uri": "https://localhost:8080/"
        }
      },
      "execution_count": null,
      "outputs": [
        {
          "output_type": "stream",
          "name": "stdout",
          "text": [
            "25\n",
            "100\n",
            "225\n",
            "400\n"
          ]
        }
      ]
    },
    {
      "cell_type": "code",
      "source": [
        "def BMI(h, w) :\n",
        "  a = w / (0.01*h)**2\n",
        "  return a\n",
        "\n",
        "result = BMI(190,90)\n",
        "print(result)"
      ],
      "metadata": {
        "id": "64LX79ZHO9AR",
        "outputId": "082b7207-7fd4-4cff-96b2-fd5ff2f488eb",
        "colab": {
          "base_uri": "https://localhost:8080/"
        }
      },
      "execution_count": null,
      "outputs": [
        {
          "output_type": "stream",
          "name": "stdout",
          "text": [
            "24.93074792243767\n"
          ]
        }
      ]
    }
  ]
}