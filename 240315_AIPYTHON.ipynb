{
  "nbformat": 4,
  "nbformat_minor": 0,
  "metadata": {
    "colab": {
      "provenance": []
    },
    "kernelspec": {
      "name": "python3",
      "display_name": "Python 3"
    },
    "language_info": {
      "name": "python"
    }
  },
  "cells": [
    {
      "cell_type": "markdown",
      "source": [
        "#####두수를 입력받아서 합을 출력하는 프로그램"
      ],
      "metadata": {
        "id": "aaqtSzJD_1vb"
      }
    },
    {
      "cell_type": "code",
      "execution_count": 1,
      "metadata": {
        "colab": {
          "base_uri": "https://localhost:8080/"
        },
        "id": "WTCS7Eor-TVH",
        "outputId": "8057ac55-0eab-41c7-dc76-4f8702a8c408"
      },
      "outputs": [
        {
          "output_type": "stream",
          "name": "stdout",
          "text": [
            "두 정수를 입력하세요: 1 2\n",
            "두 정수의 합은: 3\n"
          ]
        }
      ],
      "source": [
        "# 한 줄에 두 개의 값을 입력 받기\n",
        "A, B = map(int, input(\"두 정수를 입력하세요: \").split())\n",
        "\n",
        "# 두 정수의 합 계산\n",
        "sum = A + B\n",
        "\n",
        "# 합 출력\n",
        "print(\"두 정수의 합은:\", sum)\n"
      ]
    },
    {
      "cell_type": "code",
      "source": [
        "print(\"Hello Python\")"
      ],
      "metadata": {
        "colab": {
          "base_uri": "https://localhost:8080/"
        },
        "id": "qFHxV82q_eMk",
        "outputId": "56bd4f81-dbbc-413c-c78c-012135ea73db"
      },
      "execution_count": 2,
      "outputs": [
        {
          "output_type": "stream",
          "name": "stdout",
          "text": [
            "Hello Python\n"
          ]
        }
      ]
    },
    {
      "cell_type": "code",
      "source": [],
      "metadata": {
        "id": "ULYYw3I6_j2S"
      },
      "execution_count": 2,
      "outputs": []
    }
  ]
}